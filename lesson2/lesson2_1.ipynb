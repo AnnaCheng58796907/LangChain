{
 "cells": [
  {
   "cell_type": "markdown",
   "id": "c722b28f",
   "metadata": {},
   "source": [
    "### python 數學運算\n",
    "\n",
    "```python\n",
    "# 基本語法: 變數名稱 = 值\n",
    "name = \"小明\"\n",
    "age = 18\n",
    "height = 175.5\n",
    "is_student = True\n",
    "```\n",
    "\n",
    "* 字串 → str\n",
    "* 整數 → int\n",
    "* 浮點數 → float\n",
    "* 布林值 → bool → True/False"
   ]
  },
  {
   "cell_type": "code",
   "execution_count": 5,
   "id": "b3dc0a6e",
   "metadata": {},
   "outputs": [
    {
     "name": "stdout",
     "output_type": "stream",
     "text": [
      "小明\n",
      "<class 'str'>\n",
      "================\n",
      "18\n",
      "<class 'int'>\n",
      "================\n",
      "175.5\n",
      "<class 'float'>\n",
      "================\n",
      "True\n",
      "<class 'bool'>\n"
     ]
    }
   ],
   "source": [
    "name = \"小明\"\n",
    "print(name)\n",
    "print(type(name)) # 呼叫function type() 查看變數的資料型態\n",
    "print('================')\n",
    "\n",
    "age = 18\n",
    "print(age)\n",
    "print(type(age)) \n",
    "print('================')\n",
    "\n",
    "height = 175.5\n",
    "print(height)\n",
    "print(type(height))\n",
    "print('================')\n",
    "\n",
    "is_student = True\n",
    "print(is_student)\n",
    "print(type(is_student))\n"
   ]
  },
  {
   "cell_type": "code",
   "execution_count": 6,
   "id": "6d25fa82",
   "metadata": {},
   "outputs": [
    {
     "name": "stdout",
     "output_type": "stream",
     "text": [
      "name變數儲存的值是小明,資料類型是:<class 'str'>.\n",
      "age變數儲存的值是18,資料類型是:<class 'int'>.\n",
      "height變數儲存的值是175.5,資料類型是:<class 'float'>.\n",
      "is_student變數儲存的值是True,資料類型是:<class 'bool'>.\n"
     ]
    }
   ],
   "source": [
    "print(\"name變數儲存的值是\", name, \",資料類型是:\", type(name), sep=\"\", end=\".\\n\")\n",
    "print(\"age變數儲存的值是\", age, \",資料類型是:\", type(age), sep=\"\", end=\".\\n\")\n",
    "print(\"height變數儲存的值是\", height, \",資料類型是:\", type(height), sep=\"\", end=\".\\n\")\n",
    "print(\"is_student變數儲存的值是\", is_student, \",資料類型是:\", type(is_student), sep=\"\", end=\".\\n\")\n",
    "\n",
    "\n"
   ]
  },
  {
   "cell_type": "code",
   "execution_count": 7,
   "id": "22f8548e",
   "metadata": {},
   "outputs": [
    {
     "name": "stdout",
     "output_type": "stream",
     "text": [
      "name變數儲存的值是小明,資料類型是:<class 'str'>.\n",
      "age變數儲存的值是18,資料類型是:<class 'int'>.\n",
      "height變數儲存的值是175.5,資料類型是:<class 'float'>.\n",
      "is_student變數儲存的值是True,資料類型是:<class 'bool'>.\n"
     ]
    }
   ],
   "source": [
    "# 字串插補\n",
    "print(f\"name變數儲存的值是{name},資料類型是:{type(name)}.\")\n",
    "print(f\"age變數儲存的值是{age},資料類型是:{type(age)}.\")\n",
    "print(f\"height變數儲存的值是{height},資料類型是:{type(height)}.\")\n",
    "print(f\"is_student變數儲存的值是{is_student},資料類型是:{type(is_student)}.\")"
   ]
  },
  {
   "cell_type": "code",
   "execution_count": 10,
   "id": "19b5ae13",
   "metadata": {},
   "outputs": [
    {
     "name": "stdout",
     "output_type": "stream",
     "text": [
      "加法 a + b = 10\n",
      "減法 a - b = 4\n",
      "乘法 a * b = 21\n",
      "除法 a / b = 2.333\n",
      "取餘數 a % b = 1\n",
      "次方 a ** b = 343\n"
     ]
    }
   ],
   "source": [
    "# 數學運算範例\n",
    "a = 7\n",
    "b = 3\n",
    "\n",
    "addition = a + b\n",
    "subtraction = a - b\n",
    "multiplication = a * b\n",
    "division = a / b\n",
    "modulus = a % b\n",
    "exponent = a ** b\n",
    "\n",
    "print(f\"加法 a + b = {addition}\")\n",
    "print(f\"減法 a - b = {subtraction}\")\n",
    "print(f\"乘法 a * b = {multiplication}\")\n",
    "print(f\"除法 a / b = {division:.3f}\") # 小數點後3位\n",
    "print(f\"取餘數 a % b = {modulus}\")\n",
    "print(f\"次方 a ** b = {exponent}\")"
   ]
  },
  {
   "cell_type": "code",
   "execution_count": null,
   "id": "1dfc8b1d",
   "metadata": {},
   "outputs": [
    {
     "name": "stdout",
     "output_type": "stream",
     "text": [
      "斜邊長度為: 5.00\n"
     ]
    }
   ],
   "source": [
    "# 有一個直角三角形,已知兩邊長,求第三邊長\n",
    "# 已知兩邊長,求第三邊長\n",
    "\n",
    "import math\n",
    "\n",
    "adjacent_side = 3 # 鄰邊長度\n",
    "opposite_side = 4 # 對邊長度\n",
    "\n",
    "# 使用畢氏定理計算斜邊長度\n",
    "hypotenuse = math.sqrt(adjacent_side**2 + opposite_side**2)\n",
    "\n",
    "print(f\"斜邊長度為: {hypotenuse:.2f}\")\n",
    "\n"
   ]
  },
  {
   "cell_type": "code",
   "execution_count": 14,
   "id": "0f6db299",
   "metadata": {},
   "outputs": [
    {
     "name": "stdout",
     "output_type": "stream",
     "text": [
      "斜邊長度為: 6.40\n"
     ]
    }
   ],
   "source": [
    "import math\n",
    "\n",
    "adjacent_side = 5 # 鄰邊長度\n",
    "opposite_side = 4 # 對邊長度\n",
    "\n",
    "hypotenuse_length = math.sqrt(adjacent_side ** 2 + opposite_side ** 2)\n",
    "\n",
    "print(f\"斜邊長度為: {hypotenuse_length:.2f}\")\n"
   ]
  },
  {
   "cell_type": "code",
   "execution_count": 1,
   "id": "0b88ee5d",
   "metadata": {},
   "outputs": [
    {
     "name": "stdout",
     "output_type": "stream",
     "text": [
      "robert\n"
     ]
    }
   ],
   "source": [
    "is_nice:bool = False\n",
    "print(\"robert\")\n",
    "# 單向選擇\n",
    "if is_nice:\n",
    "    print(\"他人不錯\")"
   ]
  },
  {
   "cell_type": "code",
   "execution_count": 2,
   "id": "283fc18d",
   "metadata": {},
   "outputs": [
    {
     "name": "stdout",
     "output_type": "stream",
     "text": [
      "robert\n",
      "他一般般\n"
     ]
    }
   ],
   "source": [
    "is_nice:bool = False\n",
    "print(\"robert\")\n",
    "# 雙向選擇\n",
    "if is_nice:\n",
    "    print(\"他人不錯\")\n",
    "else:\n",
    "    print(\"他一般般\")"
   ]
  },
  {
   "cell_type": "code",
   "execution_count": null,
   "id": "4bb0635d",
   "metadata": {},
   "outputs": [
    {
     "name": "stdout",
     "output_type": "stream",
     "text": [
      "及格\n"
     ]
    }
   ],
   "source": [
    "scores = 75\n",
    "if scores >= 60:\n",
    "    print('及格')\n",
    "else:\n",
    "    print('不及格')"
   ]
  },
  {
   "cell_type": "code",
   "execution_count": 4,
   "id": "3be4eb78",
   "metadata": {},
   "outputs": [
    {
     "name": "stdout",
     "output_type": "stream",
     "text": [
      "良好\n"
     ]
    }
   ],
   "source": [
    "# 成績判斷\n",
    "score = 85\n",
    "\n",
    "if score >= 90:\n",
    "    print(\"優秀\")\n",
    "elif score >= 80:\n",
    "    print(\"良好\")\n",
    "elif score >= 70:\n",
    "    print(\"中等\")\n",
    "else:\n",
    "    print(\"需要努力\")"
   ]
  }
 ],
 "metadata": {
  "kernelspec": {
   "display_name": "langchain",
   "language": "python",
   "name": "python3"
  },
  "language_info": {
   "codemirror_mode": {
    "name": "ipython",
    "version": 3
   },
   "file_extension": ".py",
   "mimetype": "text/x-python",
   "name": "python",
   "nbconvert_exporter": "python",
   "pygments_lexer": "ipython3",
   "version": "3.11.13"
  }
 },
 "nbformat": 4,
 "nbformat_minor": 5
}
