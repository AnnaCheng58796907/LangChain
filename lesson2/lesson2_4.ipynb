{
 "cells": [
  {
   "cell_type": "code",
   "execution_count": 2,
   "id": "601a78cf",
   "metadata": {},
   "outputs": [
    {
     "name": "stdout",
     "output_type": "stream",
     "text": [
      "         *\n",
      "        ***\n",
      "       *****\n",
      "      *******\n",
      "     *********\n",
      "    ***********\n",
      "   *************\n",
      "  ***************\n",
      " *****************\n",
      "*******************\n"
     ]
    }
   ],
   "source": [
    "# 自訂一個function, 必須列印出聖誕樹\n",
    "# todo:實作function 列印聖誕樹\n",
    "\n",
    "def print_christmas_tree(height):\n",
    "    for i in range(height):\n",
    "        print(\" \" * (height - i - 1) + \"*\" * (2 * i + 1))\n",
    "\n",
    "print_christmas_tree(10)"
   ]
  },
  {
   "cell_type": "code",
   "execution_count": null,
   "id": "4e8d348d",
   "metadata": {},
   "outputs": [
    {
     "name": "stdout",
     "output_type": "stream",
     "text": [
      "         *\n",
      "        ***\n",
      "       *****\n",
      "      *******\n",
      "     *********\n",
      "    ***********\n",
      "   *************\n",
      "  ***************\n",
      " *****************\n",
      "*******************\n",
      "         |\n"
     ]
    }
   ],
   "source": [
    "# 自訂一個function, 必須列印出聖誕樹, 不使用迴圈, 要有樹葉和樹幹\n",
    "# todo:實作function 列印聖誕樹\n",
    "\n",
    "\n",
    "def print_christmas_tree(height):\n",
    "    # 只用遞迴, 不用迴圈\n",
    "    def print_leaves(level):\n",
    "        if level == height:\n",
    "            return\n",
    "        print(\" \" * (height - level - 1) + \"*\" * (2 * level + 1))\n",
    "        print_leaves(level + 1)\n",
    "    print_leaves(0)\n",
    "    # 樹幹\n",
    "    print(\" \" * (height - 1) + \"|\")\n",
    "\n",
    "print_christmas_tree(10)"
   ]
  },
  {
   "cell_type": "code",
   "execution_count": 4,
   "id": "a7437d1c",
   "metadata": {},
   "outputs": [
    {
     "name": "stdout",
     "output_type": "stream",
     "text": [
      "   *   \n",
      "  ***  \n",
      " ***** \n",
      "*******\n",
      "   |   \n"
     ]
    }
   ],
   "source": [
    "#自訂一個function,必需列印出聖誕樹,不使用迴圈,只要使用純print,要有樹葉和樹幹\n",
    "#todo:實作function 列印聖誕樹    \n",
    "\n",
    "def print_christmas_tree():\n",
    "    # 樹葉部分\n",
    "    print(\"   *   \")\n",
    "    print(\"  ***  \")\n",
    "    print(\" ***** \")\n",
    "    print(\"*******\")\n",
    "    # 樹幹部分\n",
    "    print(\"   |   \")\n",
    "\n",
    "# 呼叫函式，列印聖誕樹\n",
    "print_christmas_tree()"
   ]
  },
  {
   "cell_type": "code",
   "execution_count": 5,
   "id": "ca1c620c",
   "metadata": {},
   "outputs": [
    {
     "name": "stdout",
     "output_type": "stream",
     "text": [
      "圓面積 = 78.54\n",
      "圓周長 = 31.42\n"
     ]
    }
   ],
   "source": [
    "# 自訂一個function, 會計算圓面積與圓周長\n",
    "# todo:實作function 計算圓面積與圓周長\n",
    "import math\n",
    "\n",
    "def calculate_circle(radius):\n",
    "    # 計算圓面積\n",
    "    area = math.pi * radius **2\n",
    "    # 計算圓周長\n",
    "    circumference = 2 * math.pi * radius\n",
    "    return area, circumference\n",
    "\n",
    "# 呼叫函式, 計算圓面積與圓周長\n",
    "radius = 5\n",
    "area, circumference = calculate_circle(radius)\n",
    "print(f\"圓面積 = {area:.2f}\")\n",
    "print(f\"圓周長 = {circumference:.2f}\")"
   ]
  },
  {
   "cell_type": "code",
   "execution_count": 6,
   "id": "eab11314",
   "metadata": {},
   "outputs": [
    {
     "name": "stdout",
     "output_type": "stream",
     "text": [
      "178\n",
      "80\n"
     ]
    }
   ],
   "source": [
    "# tuple的拆解法\n",
    "height, weight = 178, 80\n",
    "print(height)\n",
    "print(weight)"
   ]
  }
 ],
 "metadata": {
  "kernelspec": {
   "display_name": "langchain",
   "language": "python",
   "name": "python3"
  },
  "language_info": {
   "codemirror_mode": {
    "name": "ipython",
    "version": 3
   },
   "file_extension": ".py",
   "mimetype": "text/x-python",
   "name": "python",
   "nbconvert_exporter": "python",
   "pygments_lexer": "ipython3",
   "version": "3.11.13"
  }
 },
 "nbformat": 4,
 "nbformat_minor": 5
}
