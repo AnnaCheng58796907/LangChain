{
 "cells": [
  {
   "cell_type": "markdown",
   "id": "27f3c90d",
   "metadata": {},
   "source": [
    "### 使用ollama"
   ]
  },
  {
   "cell_type": "code",
   "execution_count": 4,
   "id": "dd40b3df",
   "metadata": {},
   "outputs": [
    {
     "name": "stdout",
     "output_type": "stream",
     "text": [
      "所有答案\n",
      "content='81 除以 9 的答案是 9。\\n\\n81 / 9 = 9\\n' additional_kwargs={} response_metadata={'model': 'gemma3:4b', 'created_at': '2025-09-20T06:31:52.915314Z', 'done': True, 'done_reason': 'stop', 'total_duration': 1703404900, 'load_duration': 981446400, 'prompt_eval_count': 18, 'prompt_eval_duration': 262458100, 'eval_count': 23, 'eval_duration': 455455600, 'model_name': 'gemma3:4b'} id='run--d290efa3-6e51-41e3-aee0-7923f2b9fef4-0' usage_metadata={'input_tokens': 18, 'output_tokens': 23, 'total_tokens': 41}\n",
      "回答內容是\n",
      "81 除以 9 的答案是 9。\n",
      "\n",
      "81 / 9 = 9\n",
      "\n"
     ]
    }
   ],
   "source": [
    "from langchain_ollama import ChatOllama\n",
    "\n",
    "\n",
    "# Create a ChatOllama model\n",
    "# 透過網址的方式連結ollama (指定 base_url 指向 Ollama server)\n",
    "# 預設 Ollama server 在本機的 11434 埠，若在其他主機或埠請改成相對應的網址\n",
    "\n",
    "model = ChatOllama(model=\"gemma3:4b\", base_url=\"http://localhost:11434\")\n",
    "\n",
    "\n",
    "# Invoke the model with a message\n",
    "result = model.invoke(\"81除以9的答案是?\")\n",
    "print(\"所有答案\")\n",
    "print(result)\n",
    "print(\"回答內容是\")\n",
    "print(result.content)"
   ]
  },
  {
   "cell_type": "code",
   "execution_count": 16,
   "id": "184c1961",
   "metadata": {},
   "outputs": [
    {
     "name": "stdout",
     "output_type": "stream",
     "text": [
      "<class 'langchain_google_genai.chat_models.ChatGoogleGenerativeAI'>\n",
      "所有答案\n",
      "content='好的，這是一首關於秋天的詩：\\n\\n**秋意闌珊**\\n\\n秋風起兮涼意濃，\\n天高雲淡雁南送。\\n層林盡染黃與紅，\\n悄然入畫秋意濃。\\n\\n黃葉飄零舞輕風，\\n丹楓如霞映碧空。\\n陽光溫柔灑大地，\\n萬物靜謐入畫中。\\n\\n田間稻浪金波湧，\\n果園累累掛枝頭。\\n菊香暗送幽幽遠，\\n豐收喜悅滿人間。\\n\\n歲月流轉不待人，\\n光陰靜好亦沉吟。\\n莫道蕭瑟催人老，\\n此時詩意最動心。' additional_kwargs={} response_metadata={'prompt_feedback': {'block_reason': 0, 'safety_ratings': []}, 'finish_reason': 'STOP', 'model_name': 'gemini-2.5-flash', 'safety_ratings': []} id='run--76f98d28-2d8c-456c-85c1-de7718766c18-0' usage_metadata={'input_tokens': 11, 'output_tokens': 2596, 'total_tokens': 2607, 'input_token_details': {'cache_read': 0}, 'output_token_details': {'reasoning': 2437}}\n",
      "好的，這是一首關於秋天的詩：\n",
      "\n",
      "**秋意闌珊**\n",
      "\n",
      "秋風起兮涼意濃，\n",
      "天高雲淡雁南送。\n",
      "層林盡染黃與紅，\n",
      "悄然入畫秋意濃。\n",
      "\n",
      "黃葉飄零舞輕風，\n",
      "丹楓如霞映碧空。\n",
      "陽光溫柔灑大地，\n",
      "萬物靜謐入畫中。\n",
      "\n",
      "田間稻浪金波湧，\n",
      "果園累累掛枝頭。\n",
      "菊香暗送幽幽遠，\n",
      "豐收喜悅滿人間。\n",
      "\n",
      "歲月流轉不待人，\n",
      "光陰靜好亦沉吟。\n",
      "莫道蕭瑟催人老，\n",
      "此時詩意最動心。\n",
      "回答內容是\n",
      "好的，這是一首關於秋天的詩：\n",
      "\n",
      "**秋意闌珊**\n",
      "\n",
      "秋風起兮涼意濃，\n",
      "天高雲淡雁南送。\n",
      "層林盡染黃與紅，\n",
      "悄然入畫秋意濃。\n",
      "\n",
      "黃葉飄零舞輕風，\n",
      "丹楓如霞映碧空。\n",
      "陽光溫柔灑大地，\n",
      "萬物靜謐入畫中。\n",
      "\n",
      "田間稻浪金波湧，\n",
      "果園累累掛枝頭。\n",
      "菊香暗送幽幽遠，\n",
      "豐收喜悅滿人間。\n",
      "\n",
      "歲月流轉不待人，\n",
      "光陰靜好亦沉吟。\n",
      "莫道蕭瑟催人老，\n",
      "此時詩意最動心。\n"
     ]
    }
   ],
   "source": [
    "#google\n",
    "# Chat Model Documents:https://python.langchain.com/docs/integrations/chat/\n",
    "# Google Chat Model Documents: https://python.langchain.com/docs/integrations/chat/google_generative_ai/\n",
    "\n",
    "from dotenv import load_dotenv\n",
    "from langchain_google_genai import ChatGoogleGenerativeAI\n",
    "\n",
    "# Load environment variables from .env\n",
    "load_dotenv()\n",
    "\n",
    "# Create a ChatGoogleGenerativeAI model\n",
    "model = ChatGoogleGenerativeAI(model=\"gemini-2.5-flash\", temperature=0.5)\n",
    "print(type(model))\n",
    "\n",
    "# Invoke the model with a message\n",
    "result = model.invoke(\"請用中文寫一首有關秋天的詩\")\n",
    "print(\"所有答案\")\n",
    "print(result)\n",
    "json_data = result.to_json()\n",
    "print(json_data[\"kwargs\"][\"content\"])\n",
    "print(\"回答內容是\")\n",
    "print(result.content)"
   ]
  }
 ],
 "metadata": {
  "kernelspec": {
   "display_name": ".venv",
   "language": "python",
   "name": "python3"
  },
  "language_info": {
   "codemirror_mode": {
    "name": "ipython",
    "version": 3
   },
   "file_extension": ".py",
   "mimetype": "text/x-python",
   "name": "python",
   "nbconvert_exporter": "python",
   "pygments_lexer": "ipython3",
   "version": "3.10.18"
  }
 },
 "nbformat": 4,
 "nbformat_minor": 5
}
